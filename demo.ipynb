{
    "cells": [
        {
            "cell_type": "markdown",
            "metadata": {},
            "source": [
                "# Import Libraries"
            ]
        },
        {
            "cell_type": "code",
            "execution_count": 1,
            "metadata": {},
            "outputs": [],
            "source": [
                "import numpy as np\n",
                "import torch\n",
                "import torch.nn as nn\n",
                "import torch.nn.functional as F\n",
                "import torch.optim as optim\n",
                "import torch.utils.data"
            ]
        },
        {
            "cell_type": "code",
            "execution_count": 2,
            "metadata": {},
            "outputs": [
                {
                    "name": "stdout",
                    "output_type": "stream",
                    "text": [
                        "using device: mps\n"
                    ]
                }
            ],
            "source": [
                "USE_GPU = True\n",
                "\n",
                "if USE_GPU and torch.backends.mps.is_available():\n",
                "    device = torch.device('mps')\n",
                "else:\n",
                "    device = torch.device('cpu')\n",
                "\n",
                "print('using device:', device)"
            ]
        },
        {
            "cell_type": "code",
            "execution_count": 8,
            "metadata": {},
            "outputs": [],
            "source": [
                "from dataset import ParkingSpotDataset\n",
                "\n",
                "train_dataset = ParkingSpotDataset(image_size=448, data_dir=\"data/Parking Space.v4i.darknet/train\", transform=None)\n",
                "train_loader = torch.utils.data.DataLoader(train_dataset, batch_size=1, shuffle=True, num_workers=0)\n",
                "\n"
            ]
        },
        {
            "cell_type": "code",
            "execution_count": 9,
            "metadata": {},
            "outputs": [],
            "source": [
                "from utils import visualization\n",
                "import matplotlib.pyplot as plt\n",
                "import matplotlib.patches as patches\n"
            ]
        },
        {
            "cell_type": "code",
            "execution_count": 10,
            "metadata": {},
            "outputs": [
                {
                    "name": "stdout",
                    "output_type": "stream",
                    "text": [
                        "Epoch 0\n",
                        "done\n"
                    ]
                },
                {
                    "ename": "AttributeError",
                    "evalue": "'YoloLoss' object has no attribute 'item'",
                    "output_type": "error",
                    "traceback": [
                        "\u001b[0;31m---------------------------------------------------------------------------\u001b[0m",
                        "\u001b[0;31mAttributeError\u001b[0m                            Traceback (most recent call last)",
                        "Cell \u001b[0;32mIn[10], line 77\u001b[0m\n\u001b[1;32m     73\u001b[0m     \u001b[38;5;28mprint\u001b[39m(\u001b[38;5;124m\"\u001b[39m\u001b[38;5;124mdone\u001b[39m\u001b[38;5;124m\"\u001b[39m)\n\u001b[1;32m     74\u001b[0m     \u001b[38;5;66;03m# loss = loss_fn(predict, targets)\u001b[39;00m\n\u001b[1;32m     75\u001b[0m     \u001b[38;5;66;03m# loss.backward()\u001b[39;00m\n\u001b[1;32m     76\u001b[0m     \u001b[38;5;66;03m# optimizer.step()\u001b[39;00m\n\u001b[0;32m---> 77\u001b[0m     \u001b[38;5;28mprint\u001b[39m(\u001b[38;5;124mf\u001b[39m\u001b[38;5;124m\"\u001b[39m\u001b[38;5;124mLoss: \u001b[39m\u001b[38;5;132;01m{\u001b[39;00mloss\u001b[38;5;241m.\u001b[39mitem()\u001b[38;5;132;01m}\u001b[39;00m\u001b[38;5;124m\"\u001b[39m)\n\u001b[1;32m     78\u001b[0m train_fn(train_loader, model, optimizer, loss)\n",
                        "File \u001b[0;32m~/anaconda3/lib/python3.11/site-packages/torch/nn/modules/module.py:1688\u001b[0m, in \u001b[0;36mModule.__getattr__\u001b[0;34m(self, name)\u001b[0m\n\u001b[1;32m   1686\u001b[0m     \u001b[38;5;28;01mif\u001b[39;00m name \u001b[38;5;129;01min\u001b[39;00m modules:\n\u001b[1;32m   1687\u001b[0m         \u001b[38;5;28;01mreturn\u001b[39;00m modules[name]\n\u001b[0;32m-> 1688\u001b[0m \u001b[38;5;28;01mraise\u001b[39;00m \u001b[38;5;167;01mAttributeError\u001b[39;00m(\u001b[38;5;124mf\u001b[39m\u001b[38;5;124m\"\u001b[39m\u001b[38;5;124m'\u001b[39m\u001b[38;5;132;01m{\u001b[39;00m\u001b[38;5;28mtype\u001b[39m(\u001b[38;5;28mself\u001b[39m)\u001b[38;5;241m.\u001b[39m\u001b[38;5;18m__name__\u001b[39m\u001b[38;5;132;01m}\u001b[39;00m\u001b[38;5;124m'\u001b[39m\u001b[38;5;124m object has no attribute \u001b[39m\u001b[38;5;124m'\u001b[39m\u001b[38;5;132;01m{\u001b[39;00mname\u001b[38;5;132;01m}\u001b[39;00m\u001b[38;5;124m'\u001b[39m\u001b[38;5;124m\"\u001b[39m)\n",
                        "\u001b[0;31mAttributeError\u001b[0m: 'YoloLoss' object has no attribute 'item'"
                    ]
                }
            ],
            "source": [
                "import torchvision.transforms as transforms\n",
                "import torch.optim as optim\n",
                "from tqdm import tqdm\n",
                "from utils.detection import *\n",
                "from utils.visualization import *\n",
                "from loss import *\n",
                "from dataset import *\n",
                "from model.yolov1 import *\n",
                "from torch.utils import model_zoo\n",
                "\n",
                "USE_GPU = True\n",
                "\n",
                "# if USE_GPU and torch.cuda.is_available():\n",
                "#     device = torch.device('cuda')\n",
                "# else:\n",
                "#     device = torch.device('cpu')\n",
                "dtype = torch.float32\n",
                "if USE_GPU and torch.backends.mps.is_available():\n",
                "    device = torch.device('mps')\n",
                "else:\n",
                "    device = torch.device('cpu')\n",
                "\n",
                "lr = 0.001\n",
                "batch_size = 64\n",
                "weight_decay = 0.0005\n",
                "epochs = 20\n",
                "data_dir = \"data/train\"\n",
                "\n",
                "def train_fn(train_loader, model, optimizer, loss_fn):\n",
                "    loop = tqdm(train_loader, leave=True)\n",
                "    mean_loss = []\n",
                "\n",
                "    for batch_idx, (x, y) in enumerate(loop):\n",
                "        x, y = x.to(device), y.to(device)\n",
                "        out = model(x)\n",
                "        loss = loss_fn(out, y)\n",
                "        mean_loss.append(loss.item())\n",
                "        optimizer.zero_grad()\n",
                "        loss.backward()\n",
                "        optimizer.step()\n",
                "\n",
                "        # update progress bar\n",
                "        loop.set_postfix(loss=loss.item())\n",
                "\n",
                "    print(f\"Mean loss was {sum(mean_loss)/len(mean_loss)}\")\n",
                "\n",
                "model = YOLOv1(S=7, B=2, C=2).to(device)\n",
                "optimizer = optim.Adam(model.parameters(), lr=lr, weight_decay=weight_decay)\n",
                "loss = YoloLoss(S=7, B=2, C=2)\n",
                "\n",
                "# train_dataset = ParkingSpotDataset(\n",
                "#     image_size=448,\n",
                "#     data_dir=data_dir,\n",
                "#     S=7,\n",
                "#     B=2,\n",
                "#     C=2\n",
                "# )\n",
                "\n",
                "# train_loader = DataLoader(\n",
                "#     dataset=train_dataset,\n",
                "#     batch_size=batch_size,\n",
                "#     shuffle=True,\n",
                "#     drop_last=True,\n",
                "# )\n",
                "model.train()\n",
                "for epoch in range(epochs):\n",
                "    print(f\"Epoch {epoch}\")\n",
                "    for inputs, targets in train_loader:\n",
                "        inputs, targets = inputs.to(device), targets.to(device)\n",
                "        inputs = inputs.permute(0, 3, 1, 2)\n",
                "        optimizer.zero_grad()\n",
                "        predict= model(inputs)\n",
                "        print(\"done\")\n",
                "        # loss = loss_fn(predict, targets)\n",
                "        # loss.backward()\n",
                "        # optimizer.step()\n",
                "        print(f\"Loss: {loss.item()}\")\n",
                "    train_fn(train_loader, model, optimizer, loss)\n"
            ]
        },
        {
            "cell_type": "code",
            "execution_count": null,
            "metadata": {},
            "outputs": [],
            "source": []
        }
    ],
    "metadata": {
        "kernelspec": {
            "display_name": "ECE176",
            "language": "python",
            "name": "python3"
        },
        "language_info": {
            "codemirror_mode": {
                "name": "ipython",
                "version": 3
            },
            "file_extension": ".py",
            "mimetype": "text/x-python",
            "name": "python",
            "nbconvert_exporter": "python",
            "pygments_lexer": "ipython3",
            "version": "3.11.5"
        }
    },
    "nbformat": 4,
    "nbformat_minor": 2
}
